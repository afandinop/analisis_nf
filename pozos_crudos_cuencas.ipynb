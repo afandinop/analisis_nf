{
 "cells": [
  {
   "cell_type": "code",
   "execution_count": 2,
   "id": "fd604307-ccf7-49a9-aaf6-b6467b73d41c",
   "metadata": {
    "tags": []
   },
   "outputs": [],
   "source": [
    "import numpy as np\n",
    "import geopandas as gpd\n",
    "from shapely.geometry import Point\n",
    "import os\n",
    "from tqdm import tqdm"
   ]
  },
  {
   "cell_type": "code",
   "execution_count": 4,
   "id": "8a3d96b0-6884-432c-8ff6-789a67c82148",
   "metadata": {
    "tags": []
   },
   "outputs": [
    {
     "name": "stdout",
     "output_type": "stream",
     "text": [
      "['lat', 'lon', 'HydroID', 'dtw_syr', 'dtw_condyr', 'dtw_s_nmax_yr', 'dtw_nmax_yr', 'dtw_vyr', 'dtw_tyr', 'dtw_resyr']\n"
     ]
    }
   ],
   "source": [
    "npfile = np.load(r'G:\\Mi unidad\\Maestria\\Proyecto de Grado\\analisis_nf\\datos\\australia\\austotalyr_DTW.npz')\n",
    "print(npfile.files)"
   ]
  },
  {
   "cell_type": "code",
   "execution_count": 7,
   "id": "9cb13f63-ba46-45a6-8ebc-c8d57e99d8ff",
   "metadata": {
    "tags": []
   },
   "outputs": [],
   "source": [
    "variables = {\n",
    "    'dtw_syr': npfile['dtw_syr'],\n",
    "    'dtw_condyr': npfile['dtw_condyr'],\n",
    "    'dtw_s_nmax_yr': npfile['dtw_s_nmax_yr'],\n",
    "    'dtw_nmax_yr': npfile['dtw_nmax_yr'],\n",
    "    'dtw_tyr': npfile['dtw_tyr'],\n",
    "    'dtw_vyr': npfile['dtw_vyr'],\n",
    "    'HydroID': npfile['HydroID'],\n",
    "    'lat': npfile['lat'],\n",
    "    'lon': npfile['lon']\n",
    "}\n",
    "\n",
    "# Crear array de coordenadas (lon, lat)\n",
    "coords = np.column_stack((variables['lon'], variables['lat']))"
   ]
  },
  {
   "cell_type": "code",
   "execution_count": 8,
   "id": "bf47ac97-2693-4264-aba9-d34403def4fe",
   "metadata": {
    "tags": []
   },
   "outputs": [],
   "source": [
    "# 2. Cargar y preparar shapefile\n",
    "shp_path = r'G:\\Mi unidad\\Maestria\\Proyecto de Grado\\analisis_nf\\datos\\ARTÍCULO\\australia_aquifers.shp'\n",
    "mapa = gpd.read_file(shp_path).to_crs(epsg=3577)  # CRS proyectado para Australia\n",
    "mapa = mapa[mapa['Broader'] != '-']  # Filtramos cuencas válidas\n",
    "mapa['area'] = mapa.geometry.area  # Calculamos áreas\n",
    "mapa = mapa.to_crs(epsg=4326)  # Volvemos a WGS84"
   ]
  },
  {
   "cell_type": "code",
   "execution_count": 9,
   "id": "30e9a37e-c5d1-4c6d-8cd4-479dc5d0963a",
   "metadata": {
    "tags": []
   },
   "outputs": [],
   "source": [
    "# 3. Pre-allocar diccionario para resultados\n",
    "cuencas_validas = mapa['Broader'].unique()\n",
    "resultados = {cuenca: {var: [] for var in variables.keys()} for cuenca in cuencas_validas}\n",
    "resultados['indices'] = {cuenca: [] for cuenca in cuencas_validas}"
   ]
  },
  {
   "cell_type": "code",
   "execution_count": 10,
   "id": "f72bbb61-9303-41e0-b1d5-9b8ab731a2e2",
   "metadata": {
    "tags": []
   },
   "outputs": [
    {
     "name": "stderr",
     "output_type": "stream",
     "text": [
      "Asignando pozos a cuencas: 100%|███████████████████████████████████████████████████████| 60/60 [00:35<00:00,  1.71it/s]\n",
      "Guardando archivos: 100%|██████████████████████████████████████████████████████████████| 11/11 [00:00<00:00, 11.33it/s]"
     ]
    },
    {
     "name": "stdout",
     "output_type": "stream",
     "text": [
      "Proceso completado. Archivos guardados en: G:\\Mi unidad\\Maestria\\Proyecto de Grado\\analisis_nf\\datos\\australia\\cuencas_hidrogeologicas\n"
     ]
    },
    {
     "name": "stderr",
     "output_type": "stream",
     "text": [
      "\n"
     ]
    }
   ],
   "source": [
    "# 4. Asignación optimizada (usando índices)\n",
    "puntos = [Point(lon, lat) for lon, lat in zip(variables['lon'], variables['lat'])]\n",
    "\n",
    "for idx, (nombre, geometria) in tqdm(enumerate(zip(mapa['Broader'], mapa.geometry)), \n",
    "                                  total=len(mapa),\n",
    "                                  desc=\"Asignando pozos a cuencas\"):\n",
    "    # Máscara vectorizada\n",
    "    dentro = np.array([geometria.contains(p) for p in puntos], dtype=bool)\n",
    "    indices = np.where(dentro)[0]\n",
    "    \n",
    "    if len(indices) > 0:\n",
    "        resultados['indices'][nombre].extend(indices)\n",
    "\n",
    "# 5. Agrupar datos y guardar NPZ por cuenca\n",
    "output_dir = r'G:\\Mi unidad\\Maestria\\Proyecto de Grado\\analisis_nf\\datos\\australia\\cuencas_hidrogeologicas'\n",
    "os.makedirs(output_dir, exist_ok=True)\n",
    "\n",
    "for cuenca, indices in tqdm(resultados['indices'].items(), desc=\"Guardando archivos\"):\n",
    "    if indices:\n",
    "        idx_array = np.array(indices, dtype=np.int32)\n",
    "        \n",
    "        # Crear diccionario con todos los datos filtrados\n",
    "        datos_cuenca = {var: variables[var][idx_array] for var in variables.keys()}\n",
    "        \n",
    "        # Añadir metadatos\n",
    "        datos_cuenca['cuenca'] = cuenca\n",
    "        datos_cuenca['num_pozos'] = len(idx_array)\n",
    "        \n",
    "        # Guardar con compresión\n",
    "        nombre_archivo = f\"{cuenca.lower().replace(' ', '_').replace('/', '_')}.npz\"\n",
    "        np.savez_compressed(\n",
    "            os.path.join(output_dir, nombre_archivo),\n",
    "            **datos_cuenca\n",
    "        )\n",
    "\n",
    "print(\"Proceso completado. Archivos guardados en:\", output_dir)"
   ]
  },
  {
   "cell_type": "code",
   "execution_count": null,
   "id": "621ea753-422f-4e81-842b-7d13ebf43438",
   "metadata": {},
   "outputs": [],
   "source": []
  },
  {
   "cell_type": "code",
   "execution_count": null,
   "id": "0bad231f-14d4-4d7a-bee3-31672db7e101",
   "metadata": {},
   "outputs": [],
   "source": []
  }
 ],
 "metadata": {
  "kernelspec": {
   "display_name": "Python 3 (ipykernel)",
   "language": "python",
   "name": "python3"
  },
  "language_info": {
   "codemirror_mode": {
    "name": "ipython",
    "version": 3
   },
   "file_extension": ".py",
   "mimetype": "text/x-python",
   "name": "python",
   "nbconvert_exporter": "python",
   "pygments_lexer": "ipython3",
   "version": "3.11.5"
  }
 },
 "nbformat": 4,
 "nbformat_minor": 5
}
